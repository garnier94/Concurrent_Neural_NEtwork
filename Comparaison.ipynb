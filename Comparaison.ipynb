{
 "cells": [
  {
   "cell_type": "code",
   "execution_count": 2,
   "id": "circular-adoption",
   "metadata": {},
   "outputs": [],
   "source": [
    "import pandas as pd\n",
    "import numpy as np\n",
    "import datetime as dt\n",
    "import os\n",
    "from Concurrent_Neural_Network.preprocessing import filter_index_from_dataframe, compute_proportion, add_temporal_features, dataframe_to_data_loader\n",
    "from Concurrent_Neural_Network.models import Concurrent_Module\n",
    "from Concurrent_Neural_Network.submodel import Multi_layer_feed_forward_model\n",
    "import matplotlib.pyplot as plt"
   ]
  },
  {
   "cell_type": "markdown",
   "id": "small-donna",
   "metadata": {},
   "source": [
    "# Comparison \n",
    "\n",
    "Objectives: \n",
    "\n",
    " - Compare graphicaly prevision from NN, Conc-NN, RF\n",
    " - Generate plot for articles\n",
    " \n",
    "### I Data\n",
    "\n",
    "#### I.A Read_Data"
   ]
  },
  {
   "cell_type": "code",
   "execution_count": 11,
   "id": "universal-butler",
   "metadata": {},
   "outputs": [],
   "source": [
    "CUR_DIR = os.getcwd()\n",
    "DATA_FILE = os.path.join(CUR_DIR,'data','smartphone_data.csv' )\n",
    "data =  pd.read_csv(DATA_FILE, sep =';')\n",
    "data.set_index(['product_id', 'monday_date'], inplace= True)"
   ]
  },
  {
   "cell_type": "markdown",
   "id": "hydraulic-fireplace",
   "metadata": {},
   "source": [
    "#### I.B Preproces_Data"
   ]
  },
  {
   "cell_type": "code",
   "execution_count": 12,
   "id": "split-panel",
   "metadata": {},
   "outputs": [],
   "source": [
    "minimal_sum=100 # A product must have at least minimal_sum to be considered\n",
    "minimal_positive_length=15 # A product must have been sold during at least minimal_positive_length to be considered\n",
    "horizon = 4 #Prediction horizon"
   ]
  },
  {
   "cell_type": "code",
   "execution_count": 34,
   "id": "mechanical-consciousness",
   "metadata": {},
   "outputs": [
    {
     "name": "stderr",
     "output_type": "stream",
     "text": [
      "<ipython-input-34-c3a8235426ba>:4: SettingWithCopyWarning: \n",
      "A value is trying to be set on a copy of a slice from a DataFrame.\n",
      "Try using .loc[row_indexer,col_indexer] = value instead\n",
      "\n",
      "See the caveats in the documentation: https://pandas.pydata.org/pandas-docs/stable/user_guide/indexing.html#returning-a-view-versus-a-copy\n",
      "  data_restrained['price'] = data_restrained['price'] /100\n"
     ]
    },
    {
     "data": {
      "text/html": [
       "<div>\n",
       "<style scoped>\n",
       "    .dataframe tbody tr th:only-of-type {\n",
       "        vertical-align: middle;\n",
       "    }\n",
       "\n",
       "    .dataframe tbody tr th {\n",
       "        vertical-align: top;\n",
       "    }\n",
       "\n",
       "    .dataframe thead th {\n",
       "        text-align: right;\n",
       "    }\n",
       "</style>\n",
       "<table border=\"1\" class=\"dataframe\">\n",
       "  <thead>\n",
       "    <tr style=\"text-align: right;\">\n",
       "      <th></th>\n",
       "      <th></th>\n",
       "      <th>sales</th>\n",
       "      <th>price</th>\n",
       "      <th>margin</th>\n",
       "      <th>sales_somme</th>\n",
       "      <th>proportion</th>\n",
       "      <th>proportion_shift_4</th>\n",
       "      <th>proportion_shift_5</th>\n",
       "    </tr>\n",
       "    <tr>\n",
       "      <th>product</th>\n",
       "      <th>monday_date</th>\n",
       "      <th></th>\n",
       "      <th></th>\n",
       "      <th></th>\n",
       "      <th></th>\n",
       "      <th></th>\n",
       "      <th></th>\n",
       "      <th></th>\n",
       "    </tr>\n",
       "  </thead>\n",
       "  <tbody>\n",
       "    <tr>\n",
       "      <th rowspan=\"5\" valign=\"top\">HIS6941785713652</th>\n",
       "      <th>2019-10-28</th>\n",
       "      <td>11.0</td>\n",
       "      <td>1.99</td>\n",
       "      <td>0.056784</td>\n",
       "      <td>6747.0</td>\n",
       "      <td>0.163035</td>\n",
       "      <td>0.020450</td>\n",
       "      <td>0.010707</td>\n",
       "    </tr>\n",
       "    <tr>\n",
       "      <th>2019-11-04</th>\n",
       "      <td>13.0</td>\n",
       "      <td>1.99</td>\n",
       "      <td>0.076357</td>\n",
       "      <td>8775.0</td>\n",
       "      <td>0.148148</td>\n",
       "      <td>0.031546</td>\n",
       "      <td>0.020450</td>\n",
       "    </tr>\n",
       "    <tr>\n",
       "      <th>2019-11-11</th>\n",
       "      <td>3.0</td>\n",
       "      <td>1.99</td>\n",
       "      <td>0.095930</td>\n",
       "      <td>6889.0</td>\n",
       "      <td>0.043548</td>\n",
       "      <td>0.023984</td>\n",
       "      <td>0.031546</td>\n",
       "    </tr>\n",
       "    <tr>\n",
       "      <th>2019-11-18</th>\n",
       "      <td>2.0</td>\n",
       "      <td>1.99</td>\n",
       "      <td>0.095930</td>\n",
       "      <td>5225.0</td>\n",
       "      <td>0.038278</td>\n",
       "      <td>0.036536</td>\n",
       "      <td>0.023984</td>\n",
       "    </tr>\n",
       "    <tr>\n",
       "      <th>2019-11-25</th>\n",
       "      <td>0.0</td>\n",
       "      <td>1.99</td>\n",
       "      <td>0.095930</td>\n",
       "      <td>27052.0</td>\n",
       "      <td>0.000000</td>\n",
       "      <td>0.163035</td>\n",
       "      <td>0.036536</td>\n",
       "    </tr>\n",
       "  </tbody>\n",
       "</table>\n",
       "</div>"
      ],
      "text/plain": [
       "                              sales  price    margin  sales_somme  proportion  \\\n",
       "product          monday_date                                                    \n",
       "HIS6941785713652 2019-10-28    11.0   1.99  0.056784       6747.0    0.163035   \n",
       "                 2019-11-04    13.0   1.99  0.076357       8775.0    0.148148   \n",
       "                 2019-11-11     3.0   1.99  0.095930       6889.0    0.043548   \n",
       "                 2019-11-18     2.0   1.99  0.095930       5225.0    0.038278   \n",
       "                 2019-11-25     0.0   1.99  0.095930      27052.0    0.000000   \n",
       "\n",
       "                              proportion_shift_4  proportion_shift_5  \n",
       "product          monday_date                                          \n",
       "HIS6941785713652 2019-10-28             0.020450            0.010707  \n",
       "                 2019-11-04             0.031546            0.020450  \n",
       "                 2019-11-11             0.023984            0.031546  \n",
       "                 2019-11-18             0.036536            0.023984  \n",
       "                 2019-11-25             0.163035            0.036536  "
      ]
     },
     "execution_count": 34,
     "metadata": {},
     "output_type": "execute_result"
    }
   ],
   "source": [
    "filtered_data, products =  filter_index_from_dataframe(data, \"sales\", minimal_sum_target=minimal_sum, minimal_positive_length=minimal_positive_length )\n",
    "market_shares, weekly_global_sales, products = compute_proportion(filtered_data, 'sales', resize=100) # Note that the proportion are explained in percentages\n",
    "data_restrained = add_temporal_features(market_shares, horizon=horizon)\n",
    "data_restrained['price'] = data_restrained['price'] /100\n",
    "data_restrained.head()"
   ]
  },
  {
   "cell_type": "markdown",
   "id": "connected-light",
   "metadata": {},
   "source": [
    "#### I.C Training and Testing sets"
   ]
  },
  {
   "cell_type": "code",
   "execution_count": 35,
   "id": "rational-alexandria",
   "metadata": {},
   "outputs": [],
   "source": [
    "date_learning =  '2020-06-01' # This date separate learning & testing set\n",
    "date_stop = '2021_01_01' # This is the end of the testing set\n",
    "# Split Train Test sets\n",
    "\n",
    "X_train, X_test = data_restrained[data_restrained.index.get_level_values(1) < date_learning ], data_restrained[data_restrained.index.get_level_values(1) >= date_learning ]\n",
    "X_test = X_test[X_test.index.get_level_values(1) < date_stop]"
   ]
  },
  {
   "cell_type": "code",
   "execution_count": 36,
   "id": "facial-mustang",
   "metadata": {},
   "outputs": [],
   "source": [
    "features = ['proportion_shift_4', 'proportion_shift_5','price', 'margin'] # Here are the features used for prediction\n",
    "target ='proportion'\n",
    "data_train_loader = dataframe_to_data_loader(X_train, features, target)\n",
    "data_test_loader = dataframe_to_data_loader(X_test, features, target)"
   ]
  },
  {
   "cell_type": "markdown",
   "id": "combined-investor",
   "metadata": {},
   "source": [
    "### II Training models\n",
    "\n",
    "In this section, we will train three models :\n",
    "\n",
    " - A classical Neural Network with L1 Loss, named FF-NN\n",
    " - A concurrent Neural Network model with L1 Loss, named L1-Conc-NN\n",
    " - A concurrent Neural Network model with Poisson Loss, named Poisson-Conc-NN\n",
    "\n",
    " \n",
    "All this models have the same architecture, describe by the list of numbers of cells"
   ]
  },
  {
   "cell_type": "code",
   "execution_count": 42,
   "id": "seeing-fleece",
   "metadata": {},
   "outputs": [],
   "source": [
    "#parameters\n",
    "\n",
    "n_input = len(features)\n",
    "architecture = [6,3]\n",
    "learning_rate_FF = 1e-4 # Learning rate for FF-NN models\n",
    "learning_rate_Conc = 1e-4 # Learning rate for Conc-NN models\n",
    "max_epochs = 1000\n",
    "early_stopping = 50\n",
    "batch_prt = (epochs // 10) \n",
    "sum_factor = 100"
   ]
  },
  {
   "cell_type": "markdown",
   "id": "median-conjunction",
   "metadata": {},
   "source": [
    "#### II.A Simple NN Network\n",
    "\n",
    "A simple classical Feed-Forward Neural Network\n",
    "NB ; Traning this models are complex, it may require to be repeted several times"
   ]
  },
  {
   "cell_type": "code",
   "execution_count": 43,
   "id": "sudden-denial",
   "metadata": {},
   "outputs": [
    {
     "name": "stdout",
     "output_type": "stream",
     "text": [
      "Epoch 0\n",
      "Train MAPE: 122.7741\n",
      "Test MAPE: 104.4822 \n",
      "\n",
      "Epoch 200\n",
      "Train MAPE: 71.2243\n",
      "Test MAPE: 69.8189 \n",
      "\n",
      "Epoch 400\n",
      "Train MAPE: 70.7054\n",
      "Test MAPE: 69.2916 \n",
      "\n",
      "Epoch 600\n",
      "Train MAPE: 70.5162\n",
      "Test MAPE: 69.0199 \n",
      "\n",
      "Epoch 800\n",
      "Train MAPE: 70.4311\n",
      "Test MAPE: 68.7944 \n",
      "\n"
     ]
    }
   ],
   "source": [
    "FF_Model = Multi_layer_feed_forward_model(n_input, architecture, learning_rate=learning_rate_FF)\n",
    "FF_Model.train(data_train_loader,eval_dataset=data_test_loader, max_epochs=max_epochs, batch_print=batch_prt)"
   ]
  },
  {
   "cell_type": "markdown",
   "id": "qualified-contract",
   "metadata": {},
   "source": [
    "### II.B Concurrent Neural Network with L1 Loss"
   ]
  },
  {
   "cell_type": "code",
   "execution_count": null,
   "id": "neural-billy",
   "metadata": {},
   "outputs": [
    {
     "name": "stdout",
     "output_type": "stream",
     "text": [
      "Epoch 0\n",
      "Train MAPE: nan\n",
      "Test MAPE: nan \n",
      "\n",
      "Epoch 200\n",
      "Train MAPE: nan\n",
      "Test MAPE: nan \n",
      "\n",
      "Epoch 400\n",
      "Train MAPE: nan\n",
      "Test MAPE: nan \n",
      "\n",
      "Epoch 600\n",
      "Train MAPE: nan\n",
      "Test MAPE: nan \n",
      "\n"
     ]
    }
   ],
   "source": [
    "sub_NN_L1 = Multi_layer_feed_forward_model(n_input, architecture)\n",
    "L1_Conc_NN_model = Concurrent_Module(sub_NN_L1, sum_factor=sum_factor, loss='L1', learning_rate=learning_rate_Conc)\n",
    "L1_Conc_NN_model.train(data_train_loader,eval_dataset=data_test_loader, max_epochs=max_epochs, batch_print=batch_prt)"
   ]
  },
  {
   "cell_type": "markdown",
   "id": "suspected-print",
   "metadata": {},
   "source": [
    "### II.C Concurrent Neural Network with Poisson Loss"
   ]
  },
  {
   "cell_type": "code",
   "execution_count": null,
   "id": "northern-basis",
   "metadata": {},
   "outputs": [],
   "source": [
    "sub_NN_poisson = Multi_layer_feed_forward_model(n_input, architecture)\n",
    "poisson_Conc_NN_model = Concurrent_Module(sub_NN_poisson , sum_factor=sum_factor, loss='poisson', learning_rate=learning_rate_Conc)\n",
    "poisson_Conc_NN_model.train(data_train_loader,eval_dataset=data_test_loader, max_epochs=max_epochs, batch_print=batch_prt)"
   ]
  },
  {
   "cell_type": "code",
   "execution_count": null,
   "id": "romantic-hobby",
   "metadata": {},
   "outputs": [],
   "source": []
  },
  {
   "cell_type": "code",
   "execution_count": null,
   "id": "coated-crime",
   "metadata": {},
   "outputs": [],
   "source": []
  },
  {
   "cell_type": "code",
   "execution_count": null,
   "id": "detected-framework",
   "metadata": {},
   "outputs": [],
   "source": []
  },
  {
   "cell_type": "code",
   "execution_count": null,
   "id": "noble-toyota",
   "metadata": {},
   "outputs": [],
   "source": []
  },
  {
   "cell_type": "code",
   "execution_count": null,
   "id": "inclusive-basics",
   "metadata": {},
   "outputs": [],
   "source": []
  },
  {
   "cell_type": "code",
   "execution_count": null,
   "id": "alpine-blues",
   "metadata": {},
   "outputs": [],
   "source": []
  }
 ],
 "metadata": {
  "kernelspec": {
   "display_name": "Python (base)",
   "language": "python",
   "name": "base"
  },
  "language_info": {
   "codemirror_mode": {
    "name": "ipython",
    "version": 3
   },
   "file_extension": ".py",
   "mimetype": "text/x-python",
   "name": "python",
   "nbconvert_exporter": "python",
   "pygments_lexer": "ipython3",
   "version": "3.8.5"
  }
 },
 "nbformat": 4,
 "nbformat_minor": 5
}
