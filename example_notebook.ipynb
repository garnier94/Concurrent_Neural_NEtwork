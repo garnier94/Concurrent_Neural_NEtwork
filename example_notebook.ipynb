{
 "cells": [
  {
   "cell_type": "markdown",
   "id": "center-tablet",
   "metadata": {},
   "source": [
    "# Example of use of the Concurrent_neural_network package\n"
   ]
  },
  {
   "cell_type": "code",
   "execution_count": 1,
   "id": "educated-lingerie",
   "metadata": {},
   "outputs": [],
   "source": [
    "import pandas as pd\n",
    "import numpy as np\n",
    "import datetime as dt\n",
    "import os\n",
    "from Concurrent_Neural_Network.preprocessing import filter_index_from_dataframe, compute_proportion, add_temporal_features, dataframe_to_data_loader\n",
    "import matplotlib.pyplot as plt\n",
    "import torch\n",
    "import torch.nn as nn\n",
    "import torch.nn.functional as F"
   ]
  },
  {
   "cell_type": "markdown",
   "id": "specialized-facing",
   "metadata": {},
   "source": [
    "## I Data\n",
    "\n",
    "The data we use are 92400 weekly sales of 550 smartphones on CDiscount website. It has 5 columns:\n",
    " - product_id : the name of the product\n",
    " - monday_date : the monday of the week (week are taken from monday to sunday)\n",
    " - sales : number of sales of the week\n",
    " - price : average price of the week\n",
    " - margin : average relative margin of the week \n",
    "\n",
    "\n",
    "### I.A Reading Data "
   ]
  },
  {
   "cell_type": "code",
   "execution_count": 2,
   "id": "southeast-height",
   "metadata": {},
   "outputs": [],
   "source": [
    "CUR_DIR = os.getcwd()\n",
    "DATA_FILE = os.path.join(CUR_DIR,'data','smartphone_data.csv' )"
   ]
  },
  {
   "cell_type": "code",
   "execution_count": 3,
   "id": "residential-painting",
   "metadata": {},
   "outputs": [],
   "source": [
    "data =  pd.read_csv(DATA_FILE, sep =';')\n",
    "data.set_index(['product_id', 'monday_date'], inplace= True)"
   ]
  },
  {
   "cell_type": "markdown",
   "id": "stunning-spectacular",
   "metadata": {},
   "source": [
    "### I.B Preprocess_data\n",
    "\n",
    "We first use the function filter_index_from_dataframe to filter only the interesting products (with enough sales and enough data)"
   ]
  },
  {
   "cell_type": "code",
   "execution_count": 4,
   "id": "unknown-alexander",
   "metadata": {},
   "outputs": [],
   "source": [
    "# filter parameters\n",
    "\n",
    "minimal_sum=100 # A product must have at least minimal_sum to be considered\n",
    "minimal_positive_length=15 # A product must have been sold during at least minimal_positive_length to be considered"
   ]
  },
  {
   "cell_type": "code",
   "execution_count": 5,
   "id": "offensive-barbados",
   "metadata": {},
   "outputs": [],
   "source": [
    "filtered_data, products =  filter_index_from_dataframe(data, \"sales\", minimal_sum_target=minimal_sum, minimal_positive_length=minimal_positive_length )\n"
   ]
  },
  {
   "cell_type": "code",
   "execution_count": 6,
   "id": "multiple-soccer",
   "metadata": {},
   "outputs": [
    {
     "name": "stdout",
     "output_type": "stream",
     "text": [
      "Number of products before filter : 1304\n",
      "Number of products after filter : 1055\n",
      "Number of sales before filter : 1434188.0\n",
      "Number of sales after filter : 1403184.0\n",
      "Keeped_sales_pourcentages: 97.838  \n"
     ]
    }
   ],
   "source": [
    "print('Number of products before filter : %s' % len(set(data.index.get_level_values(0))) )\n",
    "print('Number of products after filter : %s' % len(products) )\n",
    "print('Number of sales before filter : %s' % sum(data['sales']))\n",
    "print('Number of sales after filter : %s' % sum(filtered_data['sales']))\n",
    "print('Keeped_sales_pourcentages: %.3f  ' %(100 * sum(filtered_data['sales'])/sum(data['sales'])) )"
   ]
  },
  {
   "cell_type": "markdown",
   "id": "executive-moscow",
   "metadata": {},
   "source": [
    "We then compute the market share of the products (we scale it to 100) :"
   ]
  },
  {
   "cell_type": "code",
   "execution_count": 11,
   "id": "focused-given",
   "metadata": {},
   "outputs": [],
   "source": [
    "market_shares, weekly_global_sales, products = compute_proportion(filtered_data, 'sales', resize=1)"
   ]
  },
  {
   "cell_type": "markdown",
   "id": "extra-dominant",
   "metadata": {},
   "source": [
    "### I.C Exploration of the sales data\n",
    "\n",
    "Here we present some visualisations of the data"
   ]
  },
  {
   "cell_type": "code",
   "execution_count": 7,
   "id": "convertible-canberra",
   "metadata": {},
   "outputs": [],
   "source": [
    "# temporal feature manipulation\n",
    "\n",
    "def format_time_index(df, index_col_name):\n",
    "    adf = df.reset_index()\n",
    "    adf[index_col_name] = adf[index_col_name].apply(lambda x: dt.datetime.strptime(x,'%Y-%m-%d'))\n",
    "    return adf.set_index(index_col_name)\n"
   ]
  },
  {
   "cell_type": "code",
   "execution_count": 8,
   "id": "answering-armenia",
   "metadata": {},
   "outputs": [
    {
     "ename": "NameError",
     "evalue": "name 'weekly_global_sales' is not defined",
     "output_type": "error",
     "traceback": [
      "\u001b[0;31m---------------------------------------------------------------------------\u001b[0m",
      "\u001b[0;31mNameError\u001b[0m                                 Traceback (most recent call last)",
      "\u001b[0;32m<ipython-input-8-a5528bfcb5d4>\u001b[0m in \u001b[0;36m<module>\u001b[0;34m\u001b[0m\n\u001b[0;32m----> 1\u001b[0;31m \u001b[0mf_weekly_global_sales\u001b[0m \u001b[0;34m=\u001b[0m \u001b[0mformat_time_index\u001b[0m\u001b[0;34m(\u001b[0m\u001b[0mweekly_global_sales\u001b[0m\u001b[0;34m,\u001b[0m \u001b[0;34m'monday_date'\u001b[0m\u001b[0;34m)\u001b[0m\u001b[0;34m\u001b[0m\u001b[0;34m\u001b[0m\u001b[0m\n\u001b[0m\u001b[1;32m      2\u001b[0m \u001b[0mf_weekly_total_sales\u001b[0m  \u001b[0;34m=\u001b[0m \u001b[0mformat_time_index\u001b[0m\u001b[0;34m(\u001b[0m\u001b[0mdata\u001b[0m\u001b[0;34m[\u001b[0m\u001b[0;34m'sales'\u001b[0m\u001b[0;34m]\u001b[0m\u001b[0;34m.\u001b[0m\u001b[0mgroupby\u001b[0m\u001b[0;34m(\u001b[0m\u001b[0mlevel\u001b[0m\u001b[0;34m=\u001b[0m\u001b[0;36m1\u001b[0m\u001b[0;34m)\u001b[0m\u001b[0;34m.\u001b[0m\u001b[0msum\u001b[0m\u001b[0;34m(\u001b[0m\u001b[0;34m)\u001b[0m\u001b[0;34m,\u001b[0m\u001b[0;34m'monday_date'\u001b[0m\u001b[0;34m)\u001b[0m\u001b[0;34m\u001b[0m\u001b[0;34m\u001b[0m\u001b[0m\n",
      "\u001b[0;31mNameError\u001b[0m: name 'weekly_global_sales' is not defined"
     ]
    }
   ],
   "source": [
    "f_weekly_global_sales = format_time_index(weekly_global_sales, 'monday_date')\n",
    "f_weekly_total_sales  = format_time_index(data['sales'].groupby(level=1).sum(),'monday_date')"
   ]
  },
  {
   "cell_type": "code",
   "execution_count": null,
   "id": "billion-burner",
   "metadata": {},
   "outputs": [],
   "source": [
    "plt.figure(figsize=(12,7))\n",
    "plt.plot(f_weekly_global_sales, label = 'Selected_sales')\n",
    "plt.plot(f_weekly_total_sales, label = 'Total_sales')\n",
    "plt.legend()\n",
    "plt.show()"
   ]
  },
  {
   "cell_type": "markdown",
   "id": "athletic-manor",
   "metadata": {},
   "source": [
    "There is a decreasing trend. It is caused by the way the products are selected. We will therefore ignore the last week."
   ]
  },
  {
   "cell_type": "markdown",
   "id": "wrong-scotland",
   "metadata": {},
   "source": [
    "## II Learning\n",
    "\n",
    "### II.A Data Learning Setting"
   ]
  },
  {
   "cell_type": "code",
   "execution_count": 15,
   "id": "vietnamese-product",
   "metadata": {},
   "outputs": [],
   "source": [
    "#parameters\n",
    "horizon = 6 #Prediction horizon\n",
    "features = ['proportion_shift_6', 'proportion_shift_7','price', 'margin'] # Here are the features used for prediction\n",
    "target ='proportion'\n",
    "n_input = len(features)"
   ]
  },
  {
   "cell_type": "code",
   "execution_count": 16,
   "id": "excited-hypothetical",
   "metadata": {},
   "outputs": [
    {
     "name": "stderr",
     "output_type": "stream",
     "text": [
      "<ipython-input-16-70ae8a21596b>:2: SettingWithCopyWarning: \n",
      "A value is trying to be set on a copy of a slice from a DataFrame.\n",
      "Try using .loc[row_indexer,col_indexer] = value instead\n",
      "\n",
      "See the caveats in the documentation: https://pandas.pydata.org/pandas-docs/stable/user_guide/indexing.html#returning-a-view-versus-a-copy\n",
      "  data_restrained['price'] = data_restrained['price'] /100\n"
     ]
    },
    {
     "data": {
      "text/html": [
       "<div>\n",
       "<style scoped>\n",
       "    .dataframe tbody tr th:only-of-type {\n",
       "        vertical-align: middle;\n",
       "    }\n",
       "\n",
       "    .dataframe tbody tr th {\n",
       "        vertical-align: top;\n",
       "    }\n",
       "\n",
       "    .dataframe thead th {\n",
       "        text-align: right;\n",
       "    }\n",
       "</style>\n",
       "<table border=\"1\" class=\"dataframe\">\n",
       "  <thead>\n",
       "    <tr style=\"text-align: right;\">\n",
       "      <th></th>\n",
       "      <th></th>\n",
       "      <th>sales</th>\n",
       "      <th>price</th>\n",
       "      <th>margin</th>\n",
       "      <th>sales_somme</th>\n",
       "      <th>proportion</th>\n",
       "      <th>proportion_shift_6</th>\n",
       "      <th>proportion_shift_7</th>\n",
       "    </tr>\n",
       "    <tr>\n",
       "      <th>product</th>\n",
       "      <th>monday_date</th>\n",
       "      <th></th>\n",
       "      <th></th>\n",
       "      <th></th>\n",
       "      <th></th>\n",
       "      <th></th>\n",
       "      <th></th>\n",
       "      <th></th>\n",
       "    </tr>\n",
       "  </thead>\n",
       "  <tbody>\n",
       "    <tr>\n",
       "      <th rowspan=\"5\" valign=\"top\">SAMGALAXYA10NBL</th>\n",
       "      <th>2019-10-07</th>\n",
       "      <td>177.0</td>\n",
       "      <td>1.4999</td>\n",
       "      <td>1.168630</td>\n",
       "      <td>12680.0</td>\n",
       "      <td>0.013959</td>\n",
       "      <td>0.006957</td>\n",
       "      <td>0.000212</td>\n",
       "    </tr>\n",
       "    <tr>\n",
       "      <th>2019-10-14</th>\n",
       "      <td>118.0</td>\n",
       "      <td>1.4999</td>\n",
       "      <td>0.029735</td>\n",
       "      <td>8339.0</td>\n",
       "      <td>0.014150</td>\n",
       "      <td>0.012555</td>\n",
       "      <td>0.006957</td>\n",
       "    </tr>\n",
       "    <tr>\n",
       "      <th>2019-10-21</th>\n",
       "      <td>128.0</td>\n",
       "      <td>1.4999</td>\n",
       "      <td>0.029735</td>\n",
       "      <td>8211.0</td>\n",
       "      <td>0.015589</td>\n",
       "      <td>0.016180</td>\n",
       "      <td>0.012555</td>\n",
       "    </tr>\n",
       "    <tr>\n",
       "      <th>2019-10-28</th>\n",
       "      <td>177.0</td>\n",
       "      <td>1.4999</td>\n",
       "      <td>0.029735</td>\n",
       "      <td>6747.0</td>\n",
       "      <td>0.026234</td>\n",
       "      <td>0.022547</td>\n",
       "      <td>0.016180</td>\n",
       "    </tr>\n",
       "    <tr>\n",
       "      <th>2019-11-04</th>\n",
       "      <td>300.0</td>\n",
       "      <td>1.4999</td>\n",
       "      <td>0.029735</td>\n",
       "      <td>8775.0</td>\n",
       "      <td>0.034188</td>\n",
       "      <td>0.008244</td>\n",
       "      <td>0.022547</td>\n",
       "    </tr>\n",
       "  </tbody>\n",
       "</table>\n",
       "</div>"
      ],
      "text/plain": [
       "                             sales   price    margin  sales_somme  proportion  \\\n",
       "product         monday_date                                                     \n",
       "SAMGALAXYA10NBL 2019-10-07   177.0  1.4999  1.168630      12680.0    0.013959   \n",
       "                2019-10-14   118.0  1.4999  0.029735       8339.0    0.014150   \n",
       "                2019-10-21   128.0  1.4999  0.029735       8211.0    0.015589   \n",
       "                2019-10-28   177.0  1.4999  0.029735       6747.0    0.026234   \n",
       "                2019-11-04   300.0  1.4999  0.029735       8775.0    0.034188   \n",
       "\n",
       "                             proportion_shift_6  proportion_shift_7  \n",
       "product         monday_date                                          \n",
       "SAMGALAXYA10NBL 2019-10-07             0.006957            0.000212  \n",
       "                2019-10-14             0.012555            0.006957  \n",
       "                2019-10-21             0.016180            0.012555  \n",
       "                2019-10-28             0.022547            0.016180  \n",
       "                2019-11-04             0.008244            0.022547  "
      ]
     },
     "execution_count": 16,
     "metadata": {},
     "output_type": "execute_result"
    }
   ],
   "source": [
    "data_restrained = add_temporal_features(market_shares, horizon=horizon)\n",
    "data_restrained['price'] = data_restrained['price'] /100\n",
    "data_restrained.head()"
   ]
  },
  {
   "cell_type": "code",
   "execution_count": 17,
   "id": "digital-assumption",
   "metadata": {},
   "outputs": [],
   "source": [
    "date_learning =  '2020-06-01' # This date separate learning & testing set\n",
    "date_stop = '2021_01_01' # This is the end of the testing set\n",
    "X_train, X_test = data_restrained[data_restrained.index.get_level_values(1) < date_learning ], data_restrained[data_restrained.index.get_level_values(1) >= date_learning ]\n",
    "X_test = X_test[X_test.index.get_level_values(1) < date_stop]"
   ]
  },
  {
   "cell_type": "code",
   "execution_count": 18,
   "id": "arbitrary-drilling",
   "metadata": {},
   "outputs": [],
   "source": [
    "data_train_loader = dataframe_to_data_loader(X_train,features,target) \n",
    "data_test_loader = dataframe_to_data_loader(X_test,features,target) "
   ]
  },
  {
   "cell_type": "markdown",
   "id": "pending-pencil",
   "metadata": {},
   "source": [
    "Now we present the prediction MAPE of some simple predictor :\n",
    "\n",
    "    - null : 0\n",
    "    - simple shift : predicting X_{t-h} for X_t\n",
    "    - shifted 2-mean :  predicting (X_{t-h}+X_{t-h-1})/2  for X_t\n",
    "\n",
    "Note that due to the scaling factor present on the Concurrent Neural network model they are not strictly equivalent, due to the arrival of new products. It gives however an reference"
   ]
  },
  {
   "cell_type": "code",
   "execution_count": 19,
   "id": "enclosed-bulletin",
   "metadata": {},
   "outputs": [
    {
     "name": "stdout",
     "output_type": "stream",
     "text": [
      "Null MAPE 100.00\n",
      "Simple_shift MAPE 88.65\n",
      "Simple 2-mean MAPE 86.96\n"
     ]
    }
   ],
   "source": [
    "#Some reference_MAPE\n",
    "print('Null MAPE %.2f' %   (100*sum(abs(  X_test['proportion']))/ sum(X_test['proportion'])))\n",
    "print('Simple_shift MAPE %.2f' %   (100  *sum(abs(X_test['proportion_shift_6'] - X_test['proportion']))/ sum(X_test['proportion'])))\n",
    "print('Simple 2-mean MAPE %.2f' %  (100  *sum(abs(X_test['proportion_shift_6']/2 + X_test['proportion_shift_7']/2 - X_test['proportion']))/ sum(X_test['proportion'])))"
   ]
  },
  {
   "cell_type": "markdown",
   "id": "automated-agenda",
   "metadata": {},
   "source": [
    "### II.B Inner Neural Network model\n",
    "\n",
    "Here we define the inner submodel we will use to compute the \"competitiveness function\". We stay simple and use a 2 layered neural network"
   ]
  },
  {
   "cell_type": "code",
   "execution_count": 28,
   "id": "infinite-clock",
   "metadata": {},
   "outputs": [],
   "source": [
    "class Feed_forward_model(nn.Module):\n",
    "    \"2 layers neural network used for for testing\"\n",
    "\n",
    "    def __init__(self, n_input, n_hidden):\n",
    "        super().__init__()\n",
    "        self.linear_1 = nn.Linear(n_input, n_hidden, bias=False)\n",
    "        self.linear_2 = nn.Linear(n_hidden, 1, bias=False)\n",
    "        self.n_input = n_input\n",
    "        self.n_hidden = n_hidden\n",
    "\n",
    "    def forward(self, x):\n",
    "        return F.softplus(self.linear_2(F.relu(self.linear_1(x))), )\n",
    "\n",
    "n_hidden = 4\n",
    "submodel = Feed_forward_model(n_input,n_hidden)"
   ]
  },
  {
   "cell_type": "markdown",
   "id": "understanding-alias",
   "metadata": {},
   "source": [
    "### II.C Concurrent neural network\n",
    "\n",
    "Here is an example using a Concurrent neural network defined in the previous session \n",
    "\n",
    "Note: sometimes learning doesn't work, as the prediction stay constant. In this case, you should recompile both this and previous section (this is due to a bad inialisation of the submodel)."
   ]
  },
  {
   "cell_type": "code",
   "execution_count": 29,
   "id": "regulated-oxford",
   "metadata": {},
   "outputs": [],
   "source": [
    "from Concurrent_Neural_Network.models import Concurrent_Module\n",
    "\n",
    "learning_rate = 0.005\n",
    "epochs = 200\n",
    "model= Concurrent_Module(submodel, sum_factor=1, loss='L1', learning_rate =learning_rate)"
   ]
  },
  {
   "cell_type": "code",
   "execution_count": 30,
   "id": "center-baker",
   "metadata": {},
   "outputs": [
    {
     "name": "stdout",
     "output_type": "stream",
     "text": [
      "Epoch 0\n",
      "Train MAPE: 133.7591\n",
      "Test MAPE: 120.7434 \n",
      "\n",
      "Epoch 20\n",
      "Train MAPE: 95.8357\n",
      "Test MAPE: 87.9909 \n",
      "\n",
      "Epoch 40\n",
      "Train MAPE: 91.4303\n",
      "Test MAPE: 83.2091 \n",
      "\n",
      "Epoch 60\n",
      "Train MAPE: 89.9918\n",
      "Test MAPE: 82.3293 \n",
      "\n",
      "Epoch 80\n",
      "Train MAPE: 89.7786\n",
      "Test MAPE: 82.6094 \n",
      "\n",
      "Epoch 100\n",
      "Train MAPE: 89.4753\n",
      "Test MAPE: 82.2045 \n",
      "\n",
      "Epoch 120\n",
      "Train MAPE: 89.4623\n",
      "Test MAPE: 82.8056 \n",
      "\n",
      "Epoch 140\n",
      "Train MAPE: 89.4397\n",
      "Test MAPE: 84.1233 \n",
      "\n",
      "Epoch 160\n",
      "Train MAPE: 89.1585\n",
      "Test MAPE: 83.5027 \n",
      "\n",
      "Epoch 180\n",
      "Train MAPE: 89.1718\n",
      "Test MAPE: 82.6605 \n",
      "\n"
     ]
    }
   ],
   "source": [
    "model.train(data_train_loader,eval_dataset=data_test_loader, max_epochs=epochs, batch_print = epochs//10)"
   ]
  },
  {
   "cell_type": "markdown",
   "id": "ignored-petite",
   "metadata": {},
   "source": [
    "Concurrent Model MAPE "
   ]
  },
  {
   "cell_type": "code",
   "execution_count": 31,
   "id": "derived-victorian",
   "metadata": {},
   "outputs": [
    {
     "name": "stdout",
     "output_type": "stream",
     "text": [
      "Test MAPE: 82.0284 \n",
      "\n"
     ]
    }
   ],
   "source": [
    "_ = model.eval(data_test_loader)"
   ]
  },
  {
   "cell_type": "markdown",
   "id": "separated-northeast",
   "metadata": {},
   "source": [
    "## III Analysis of the model\n",
    "\n",
    "We show in this section how to use the model we present in the last parts\n",
    "\n",
    "### II.A Retrieving results from the model :\n",
    "\n",
    "\n",
    "In this section, an example of output is provided and the prediction plotted. We first need some function to retrieve the comportement for a unique product"
   ]
  },
  {
   "cell_type": "code",
   "execution_count": 34,
   "id": "micro-vision",
   "metadata": {},
   "outputs": [],
   "source": [
    "def data_to_position_dict(data, prod):\n",
    "    date_index = list(set(data.index.get_level_values(1)))#List of the date existing in the dataset\n",
    "    date_index.sort()\n",
    "    dict_index_prod = dict()\n",
    "    for i,dt in enumerate(date_index):\n",
    "        sub_data = data[data.index.get_level_values(1) == dt]\n",
    "        l_prod_dt = list(sub_data.index.get_level_values(0))\n",
    "        if prod in l_prod_dt:\n",
    "            dict_index_prod[i] = l_prod_dt.index(prod)\n",
    "    return dict_index_prod\n",
    "\n",
    "def get_prediction_series(model, dict_index_prod):\n",
    "    l_prevs = []\n",
    "    for key in dict_index_prod.keys():\n",
    "        l_prevs.append(float(model(data_test_loader[key][0])[dict_index_prod[key]]))\n",
    "    return l_prevs\n",
    "    "
   ]
  },
  {
   "cell_type": "code",
   "execution_count": 35,
   "id": "loose-market",
   "metadata": {},
   "outputs": [],
   "source": [
    "prod = 'HUAWPSMART64BLEU' # The product sales and prediction we want to plot"
   ]
  },
  {
   "cell_type": "code",
   "execution_count": 36,
   "id": "proud-capture",
   "metadata": {},
   "outputs": [],
   "source": [
    "dict_index_prod = data_to_position_dict(X_test, prod)\n",
    "sales_product_series = X_test.loc[prod]['proportion']\n",
    "pred_product_series = pd.Series( data = get_prediction_series(model, dict_index_prod), index = sales_product_series.index)\n"
   ]
  },
  {
   "cell_type": "code",
   "execution_count": 37,
   "id": "prompt-priest",
   "metadata": {},
   "outputs": [
    {
     "data": {
      "image/png": "[encoded data removed]",
      "text/plain": [
       "<Figure size 864x504 with 1 Axes>"
      ]
     },
     "metadata": {
      "needs_background": "light"
     },
     "output_type": "display_data"
    }
   ],
   "source": [
    "plt.figure(figsize=(12,7))\n",
    "plt.plot(format_time_index(sales_product_series, 'monday_date'), label ='market_share')\n",
    "plt.plot(format_time_index(pred_product_series, 'monday_date'), label ='prediction')\n",
    "plt.legend()\n",
    "plt.show()"
   ]
  },
  {
   "cell_type": "markdown",
   "id": "smaller-might",
   "metadata": {},
   "source": [
    "Remember : it is a 6 week in advance prediction"
   ]
  },
  {
   "cell_type": "markdown",
   "id": "amber-angola",
   "metadata": {},
   "source": [
    "### II.B Covariates influence\n",
    "\n",
    "In this section, we compile partial dependance of the competitivity of the submodel"
   ]
  },
  {
   "cell_type": "code",
   "execution_count": 40,
   "id": "commercial-source",
   "metadata": {},
   "outputs": [
    {
     "data": {
      "text/plain": [
       "['proportion_shift_6', 'proportion_shift_7', 'price', 'margin']"
      ]
     },
     "execution_count": 40,
     "metadata": {},
     "output_type": "execute_result"
    }
   ],
   "source": [
    "# Let's recall the feature we use :\n",
    "features"
   ]
  },
  {
   "cell_type": "code",
   "execution_count": 94,
   "id": "absolute-basement",
   "metadata": {},
   "outputs": [],
   "source": [
    "selected_features = \"margin\"\n",
    "bins = 70"
   ]
  },
  {
   "cell_type": "code",
   "execution_count": 97,
   "id": "corrected-polyester",
   "metadata": {},
   "outputs": [],
   "source": [
    "_, selected_fet_bin = pd.qcut(X_train[selected_features], bins, duplicates='drop', retbins=True)\n",
    "avg_imp = []\n",
    "lis_x = []\n",
    "for j,b in  enumerate(selected_fet_bin[:-1]):\n",
    "    X_test_rep = X_test.copy()\n",
    "    X_test_rep[selected_features] = (b+selected_fet_bin[j+1])/2\n",
    "    lis_x.append((b+selected_fet_bin[j+1])/2)\n",
    "    tt_enter =torch.tensor(X_test_rep[features].values.astype(np.float32)) \n",
    "    comp = submodel(tt_enter)\n",
    "    avg_imp.append(sum(comp)/len(comp))"
   ]
  },
  {
   "cell_type": "code",
   "execution_count": 98,
   "id": "deluxe-westminster",
   "metadata": {},
   "outputs": [
    {
     "data": {
      "text/plain": [
       "[<matplotlib.lines.Line2D at 0x7fb8b0767880>]"
      ]
     },
     "execution_count": 98,
     "metadata": {},
     "output_type": "execute_result"
    },
    {
     "data": {
      "image/png": "[encoded data removed]",
      "text/plain": [
       "<Figure size 864x504 with 1 Axes>"
      ]
     },
     "metadata": {
      "needs_background": "light"
     },
     "output_type": "display_data"
    }
   ],
   "source": [
    "plt.figure(figsize=(12, 7))\n",
    "plt.plot( lis_x, avg_imp, '+')\n",
    "#plt.xscale('log')\n",
    "#plt.yscale('log')"
   ]
  },
  {
   "cell_type": "markdown",
   "id": "grave-helena",
   "metadata": {},
   "source": [
    "weird"
   ]
  },
  {
   "cell_type": "code",
   "execution_count": null,
   "id": "reasonable-austria",
   "metadata": {},
   "outputs": [],
   "source": []
  }
 ],
 "metadata": {
  "kernelspec": {
   "display_name": "Python (rnn)",
   "language": "python",
   "name": "rnn"
  },
  "language_info": {
   "codemirror_mode": {
    "name": "ipython",
    "version": 3
   },
   "file_extension": ".py",
   "mimetype": "text/x-python",
   "name": "python",
   "nbconvert_exporter": "python",
   "pygments_lexer": "ipython3",
   "version": "3.8.5"
  }
 },
 "nbformat": 4,
 "nbformat_minor": 5
}
